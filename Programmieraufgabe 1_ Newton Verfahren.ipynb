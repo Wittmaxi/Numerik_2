{
 "cells": [
  {
   "cell_type": "markdown",
   "id": "f4ac046a-0a3f-40b9-9880-b7dba0a09260",
   "metadata": {},
   "source": [
    "# Programmieraufgabe 1: (gedämpftes) Newton-Verfahren\n",
    "\n",
    "**Abgabe in den Programmiertutorien am 14. und 15. Mai 2025.**"
   ]
  },
  {
   "cell_type": "markdown",
   "id": "5dcf6ac9-9fd9-4c34-8656-4e30b54f8562",
   "metadata": {},
   "source": [
    "Benötigte Module für dieses Notebook:"
   ]
  },
  {
   "cell_type": "code",
   "execution_count": 66,
   "id": "36c2d8b8-bf72-41ab-9a48-7e7d7babe82c",
   "metadata": {},
   "outputs": [],
   "source": [
    "import numpy as np\n",
    "import numpy.linalg as la"
   ]
  },
  {
   "cell_type": "markdown",
   "id": "75bc79e3-570d-4bdd-aca2-64ef12e925ee",
   "metadata": {},
   "source": [
    "In diesem Notebook wollen wir das Newton-Verfahren und das gedämpfte Newton-Verfahren zur Approximation einer Nullstelle der Funktion\n",
    "$$f: \\mathbb{R}^2 \\to \\mathbb{R}^2, \\quad x = (x_1,x_2) \\mapsto \\begin{pmatrix} 1 - \\frac{2}{\\exp(x_1-x_2)+1} \\\\ x_2^3 + x_2 -2 \\end{pmatrix}$$\n",
    "testen."
   ]
  },
  {
   "cell_type": "markdown",
   "id": "376e2ec9-de1c-4839-a123-af1bf2190223",
   "metadata": {},
   "source": [
    "**(a) Schreiben Sie jeweils eine Prozedur, die für einen Vektor $x\\in\\mathbb{R}^2$ die Funktion bzw. deren Ableitung an der Stelle $x$ berechnet und als `numpy`-array zurückgibt.**"
   ]
  },
  {
   "cell_type": "code",
   "execution_count": 138,
   "id": "d199877f-df02-410d-8196-896c37eb0e55",
   "metadata": {},
   "outputs": [],
   "source": [
    "def f(v):\n",
    "    x = 1 - 2/(np.exp(v[0] - v[1]) +1)\n",
    "    y = v[1] ** 3 + v[1] - 2\n",
    "    return np.array([x, y])"
   ]
  },
  {
   "cell_type": "code",
   "execution_count": 139,
   "id": "a6283238-49ec-4b59-83b5-492ee8355b4f",
   "metadata": {},
   "outputs": [],
   "source": [
    "def df(v):\n",
    "    x = v[0]\n",
    "    y = v[1]\n",
    "    e = np.exp(x - y)\n",
    "    denom = (e + 1) ** 2\n",
    "    res = np.zeros((2, 2))\n",
    "    res[0, 0] = 2 * e / denom\n",
    "    res[0, 1] = -2 * e / denom\n",
    "    res[1, 0] = 0\n",
    "    res[1, 1] = 3 * y ** 2 + 1   \n",
    "    return res"
   ]
  },
  {
   "cell_type": "code",
   "execution_count": 140,
   "id": "b9c7e9b5-6c4d-4046-baf6-b3859c4200fe",
   "metadata": {},
   "outputs": [
    {
     "data": {
      "text/plain": [
       "array([[ 2.467587e-04, -2.467587e-04],\n",
       "       [ 0.000000e+00,  4.000000e+00]])"
      ]
     },
     "execution_count": 140,
     "metadata": {},
     "output_type": "execute_result"
    }
   ],
   "source": [
    "f([10, 1])\n",
    "df([10, 1])\n"
   ]
  },
  {
   "cell_type": "markdown",
   "id": "d0483018-dde9-4450-8ccd-675de8f05319",
   "metadata": {},
   "source": [
    "**(b) Schreiben Sie eine Prozedur, die das Newton-Verfahren mit den in der Vorlesung besprochenen Kovergenz- und Abbruchkriterien auf eine Funktion $f:\\mathbb{R}^n \\to \\mathbb{R}^n$ für beliebiges $n\\in\\mathbb{N}$ anwendet.**\n",
    "\n",
    "Ihrer Prozedur soll folgende Eingabedaten haben:\n",
    "- Einen Vektor `x0`, der den Startwert $x^{(0)}\\in\\mathbb{R}^n$ für das Newton-Verfahren enthält.\n",
    "- Zwei Prozeduren `f` und `fprime`, mit denen Funktions- und Ableitungswerte von $f$ berechnet werden können.\n",
    "- Eine Toleranz `tol` und eine maximale Zahl an Iterationen `kMax`, mit denen die Konvergenz- und Abbruchkriterien gesteuert werden können.\n",
    "\n",
    "Berücksichtigen Sie außerdem folgendes:\n",
    "- Die im Newton-Verfahren auftretenden Gleichungssysteme können Sie mit dem in `numpy` enthaltenen LGS-Löser `np.linalg.solve` lösen.\n",
    "- Am Ende der Prozedur sollen alle berechneten Iterierten $x^{(k)}$, $k=0,1,2,...$ an das Hauptprogramm zurückgegeben werden. Geben Sie außerdem eine Meldung aus, ob das Verfahren erfolgreich konvergiert ist, oder ob es wegen Divergenz bzw. wegen Erreichen der maximalen Iterationszahl abgebrochen hat.\n",
    "\n",
    "_Hinweis:_ Sie können alle Iterierten zum Beispiel als Zeilen in einer gemeinsamen Matrix speichern. Jedes Mal, wenn eine neue Iterierte berechnet wurde, wird die Matrix dementsprechend um eine Zeile ergänzt. Dazu ist der Befehl `np.vstack` hilfreich. Beispielsweise werden drei Matrizen `A1,A2,A3` derselben Breite mit dem Aufruf `np.vstack((A1,A2,A3))` übereinander gestapelt."
   ]
  },
  {
   "cell_type": "code",
   "execution_count": null,
   "id": "56784c36-f993-4480-bb1f-5da76a6cad29",
   "metadata": {},
   "outputs": [],
   "source": [
    "def newton (x0, h, hprime, tol, kMax):\n",
    "    iterations = np.array(x0).reshape(1, -1)\n",
    "    iteration = 0\n",
    "    error = tol + 1\n",
    "    error_delta_before = None\n",
    "    while error >= tol:\n",
    "        iterated = iterations[-1, :]\n",
    "        position = h(iterated)\n",
    "        speed = hprime(iterated)\n",
    "        try:\n",
    "            delta = la.solve(speed, -position)\n",
    "        except la.LinAlgError:\n",
    "            print(\"Abbruch: Jacobimatrix ist singulär.\")\n",
    "            break\n",
    "        \n",
    "        new_iterated = iterated + delta\n",
    "        iterations = np.vstack([iterations, new_iterated])\n",
    "        iteration += 1\n",
    "        error = la.norm(delta)\n",
    "\n",
    "        error_delta = la.solve(speed, h(new_iterated))\n",
    "        if error_delta_before is not None and la.norm(error_delta) > la.norm(error_delta_before):\n",
    "            print(\"Abbruch: Fehler wird größer: \" + str(la.norm(error_delta)) + \" > \" + str(la.norm(error_delta_before)))\n",
    "            break\n",
    "        error_delta_before = error_delta\n",
    "\n",
    "        if iteration >= kMax:\n",
    "            print(\"Abbruch: Zu viele Iterationen\")\n",
    "            break\n",
    "    return iterations"
   ]
  },
  {
   "cell_type": "markdown",
   "id": "4d157360-807b-492c-aca1-2154bf52e0b1",
   "metadata": {},
   "source": [
    "**(c) Testen Sie Ihre Prozedur für die obige Funktion $f$ mit den Startvektoren $x^{(0)} = (4,2)^T$ und $x^{(0)} = (4,-4)^T$. Verwenden Sie die Parameter `tol = 1e-8` und `kMax = 20`.**\n",
    "\n",
    "Geben Sie alle Iterierten aus. Für welchen Startvektor konvergiert das Verfahren? Vergewissern Sie sich im Falle der Konvergenz anhand der Funktionsvorschrift von $f$, dass Sie tatsächlich eine Nullstelle von $f$ erhalten haben. Geben Sie in dem Fall auch den Fehler der einzelnen Iterierten aus. Können Sie die erwartete, quadratische Konvergenz erkennen?"
   ]
  },
  {
   "cell_type": "markdown",
   "id": "efa47964-951c-49a2-b869-27ee0d1ad166",
   "metadata": {},
   "source": [
    "Startwert $x^{(0)} = (4,2)^T$:"
   ]
  },
  {
   "cell_type": "code",
   "execution_count": 142,
   "id": "7463234b-e4da-4d7a-8bf2-45934554f20d",
   "metadata": {},
   "outputs": [
    {
     "data": {
      "text/plain": [
       "array([[ 4.        ,  2.        ],\n",
       "       [-0.24224502,  1.38461538],\n",
       "       [ 1.90139076,  1.08258613],\n",
       "       [ 0.91017052,  1.00478035],\n",
       "       [ 1.00015828,  1.00001707],\n",
       "       [ 1.        ,  1.        ],\n",
       "       [ 1.        ,  1.        ]])"
      ]
     },
     "execution_count": 142,
     "metadata": {},
     "output_type": "execute_result"
    }
   ],
   "source": [
    "newton([4,2], f, df, 1e-8, 20)"
   ]
  },
  {
   "cell_type": "markdown",
   "id": "62a83bed-685a-4464-b846-0fa113f8a444",
   "metadata": {},
   "source": [
    "Startwert $x^{(0)} = (4,-4)^T$:"
   ]
  },
  {
   "cell_type": "code",
   "execution_count": 143,
   "id": "16a4e715-4234-424a-9bb1-657ee3d561bf",
   "metadata": {},
   "outputs": [
    {
     "name": "stdout",
     "output_type": "stream",
     "text": [
      "Abbruch: Jacobimatrix ist singulär.\n"
     ]
    },
    {
     "data": {
      "text/plain": [
       "array([[    4.        ,    -4.        ],\n",
       "       [-1485.05025436,    -2.57142857]])"
      ]
     },
     "execution_count": 143,
     "metadata": {},
     "output_type": "execute_result"
    }
   ],
   "source": [
    "newton([4,-4], f, df, 1e-8, 20)"
   ]
  },
  {
   "cell_type": "markdown",
   "id": "f7b8ca1d-046c-41c5-a602-42c60dd827ac",
   "metadata": {},
   "source": [
    "**(d) Kopieren Sie das Newton-Verfahren von oben und ändern Sie es zum gedämpften Newton-Verfahren ab. Der Parameter $\\lambda_{\\min}$ soll dabei als zusätzlicher Eingabeparameter übergeben werden, während im ersten Schritt immer mit dem Wert $\\lambda = 1$ gestartet wird. Geben Sie zusätzlich zu den Iterierten auch die verwendeten Dämpungsparameter an das Hauptprogramm zurück.**\n",
    "\n",
    "_Hinweis:_ Das Schlüsselwort `lambda` hat in Python eine ganz besondere Bedeutung und sollte daher nicht als Variablenname genutzt werden."
   ]
  },
  {
   "cell_type": "code",
   "execution_count": 172,
   "id": "c68df8fb-ed9f-429d-b430-74dd51d7c7c1",
   "metadata": {},
   "outputs": [],
   "source": [
    "# In manchen Zeilen nimmt ein kleines Lämmlein den Bus.\n",
    "# Wohin es wohl reist? Vielleicht in den Karateclub von Augsburg?\n",
    "# Ich habe gehört, da kann er was für seine Kondition machen (haha Mathewitz)\n",
    "\n",
    "def dampened_newton (x0, h, hprime, tol, kMax, lammbus_min): #🐑🚌\n",
    "    iterations = np.array(x0).reshape(1, -1)\n",
    "    iteration = 0\n",
    "    error = tol + 1\n",
    "    lammbus = 1 #🐑🚌\n",
    "    while error >= tol and iteration < kMax:\n",
    "        iterated = iterations[-1, :]\n",
    "        position = h(iterated)\n",
    "        speed = hprime(iterated)\n",
    "        delta = None\n",
    "        try:\n",
    "            delta = la.solve(speed, -position)\n",
    "        except la.LinAlgError:\n",
    "            print(\"Abbruch: Jacobimatrix ist singulär.\")\n",
    "            break\n",
    "\n",
    "\n",
    "        lammbus = 1.0 #🐑🚌\n",
    "        while la.norm(h(iterated + lammbus * delta)) > (1 - lammbus / 2) * la.norm(position): #🐑🚌\n",
    "            print (lammbus)\n",
    "            lammbus /= 2 #🐑🚌\n",
    "            if lammbus < lammbus_min: #🐑🚌\n",
    "                print(\"Abbruch: Minimale Dämpfung unterschritten.\")\n",
    "                return iterations\n",
    "\n",
    "        new_iterated = iterated + lammbus * delta\n",
    "        iterations = np.vstack([iterations, new_iterated])\n",
    "        error = la.norm(h(new_iterated))\n",
    "        iteration += 1\n",
    "    return iterations"
   ]
  },
  {
   "cell_type": "markdown",
   "id": "a28bc09d-0d62-4b2e-98cc-2dbeeda0d7f2",
   "metadata": {},
   "source": [
    "**(e) Wiederholen Sie Teil (c) mit dem gedämpften Newton-Verfahren. Verwenden Sie dabei $\\lambda_{\\min}=10^{-10}$ und geben Sie die Werte des Dämpungsparameters aus.**"
   ]
  },
  {
   "cell_type": "markdown",
   "id": "0a0dcfef-e2e6-4466-ad9b-523f92c09a7e",
   "metadata": {},
   "source": [
    "Startwert $x^{(0)} = (4,2)^T$:"
   ]
  },
  {
   "cell_type": "code",
   "execution_count": 173,
   "id": "02cb2348-0e79-4955-81b1-bc19b7318048",
   "metadata": {},
   "outputs": [
    {
     "data": {
      "text/plain": [
       "array([[ 4.        ,  2.        ],\n",
       "       [-0.24224502,  1.38461538],\n",
       "       [ 1.90139076,  1.08258613],\n",
       "       [ 0.91017052,  1.00478035],\n",
       "       [ 1.00015828,  1.00001707],\n",
       "       [ 1.        ,  1.        ]])"
      ]
     },
     "execution_count": 173,
     "metadata": {},
     "output_type": "execute_result"
    }
   ],
   "source": [
    "dampened_newton([4,2], f, df, 1e-8, 20, 10**(-10))"
   ]
  },
  {
   "cell_type": "markdown",
   "id": "718d2023-515b-495f-a799-efe3aab269af",
   "metadata": {},
   "source": [
    "Startwert $x^{(0)} = (4,-4)^T$:"
   ]
  },
  {
   "cell_type": "code",
   "execution_count": 174,
   "id": "3137b3d4-d850-4e76-9b9a-bbc79089400d",
   "metadata": {},
   "outputs": [
    {
     "name": "stdout",
     "output_type": "stream",
     "text": [
      "Abbruch: Jacobimatrix ist singulär.\n"
     ]
    },
    {
     "data": {
      "text/plain": [
       "array([[    4.        ,    -4.        ],\n",
       "       [-1485.05025436,    -2.57142857]])"
      ]
     },
     "execution_count": 174,
     "metadata": {},
     "output_type": "execute_result"
    }
   ],
   "source": [
    "dampened_newton([4,-4], f, df, 1e-8, 20, 10**(-10))"
   ]
  },
  {
   "cell_type": "code",
   "execution_count": null,
   "id": "c02a0b4d",
   "metadata": {},
   "outputs": [],
   "source": []
  }
 ],
 "metadata": {
  "kernelspec": {
   "display_name": "base",
   "language": "python",
   "name": "python3"
  },
  "language_info": {
   "codemirror_mode": {
    "name": "ipython",
    "version": 3
   },
   "file_extension": ".py",
   "mimetype": "text/x-python",
   "name": "python",
   "nbconvert_exporter": "python",
   "pygments_lexer": "ipython3",
   "version": "3.12.7"
  }
 },
 "nbformat": 4,
 "nbformat_minor": 5
}
